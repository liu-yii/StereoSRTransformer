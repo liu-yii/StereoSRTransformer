{
 "cells": [
  {
   "cell_type": "code",
   "execution_count": 10,
   "metadata": {},
   "outputs": [],
   "source": [
    "import torch\n",
    "import numpy as np"
   ]
  },
  {
   "cell_type": "code",
   "execution_count": 11,
   "metadata": {},
   "outputs": [],
   "source": [
    "def make_coord(shape, ranges=None, flatten=True):\n",
    "    \"\"\" Make coordinates at grid centers.\n",
    "    \"\"\"\n",
    "    coord_seqs = []\n",
    "    for i, n in enumerate(shape):\n",
    "        if ranges is None:\n",
    "            v0, v1 = -1, 1\n",
    "        else:\n",
    "            v0, v1 = ranges[i]\n",
    "        r = (v1 - v0) / (2 * n)\n",
    "        seq = v0 + r + (2 * r) * torch.arange(n).float()\n",
    "        coord_seqs.append(seq)\n",
    "    ret = torch.stack(torch.meshgrid(*coord_seqs), dim=-1)\n",
    "    if flatten:\n",
    "        ret = ret.view(-1, ret.shape[-1])\n",
    "    return ret\n",
    "\n",
    "\n",
    "def to_pixel_samples(img):\n",
    "    \"\"\" Convert the image to coord-RGB pairs.\n",
    "        img: Tensor, (3, H, W)\n",
    "    \"\"\"\n",
    "    coord = make_coord(img.shape[-2:])\n",
    "    coord = coord.view(img.shape[-2],img.shape[-1],-1)\n",
    "    rgb = img.view(3, -1).permute(1, 0)\n",
    "    return coord, rgb"
   ]
  },
  {
   "cell_type": "code",
   "execution_count": 12,
   "metadata": {},
   "outputs": [
    {
     "name": "stdout",
     "output_type": "stream",
     "text": [
      "torch.Size([16, 16, 2])\n"
     ]
    }
   ],
   "source": [
    "img = torch.randn([3,16,16])\n",
    "coord,rgb = to_pixel_samples(img)\n",
    "\n",
    "print(coord.shape)"
   ]
  },
  {
   "cell_type": "code",
   "execution_count": 17,
   "metadata": {},
   "outputs": [],
   "source": [
    "def snake_scan(tensor):\n",
    "    B, C, H, W = tensor.shape\n",
    "    tensor = tensor.view(B, C, H*W)\n",
    "\n",
    "    for i in range(H):\n",
    "        if i % 2 == 1:  # If it's an odd row, reverse the order\n",
    "            tensor[:, :, i*W:(i+1)*W] = tensor[:, :, i*W:(i+1)*W].flip(-1)\n",
    "\n",
    "    tensor = tensor.view(B, C, -1)\n",
    "    return tensor"
   ]
  },
  {
   "cell_type": "code",
   "execution_count": 18,
   "metadata": {},
   "outputs": [],
   "source": [
    "def hilbert_distance(x, y, N):\n",
    "    rx, ry = 0, 0\n",
    "    s = (1 << (N - 1))\n",
    "    d = 0\n",
    "    while s > 0:\n",
    "        ry = ((y & s) > 0)\n",
    "        rx = ((x & s) > 0)\n",
    "        d += s * s * ((3 * rx) ^ ry)\n",
    "        x, y = rot(s, x, y, rx, ry)\n",
    "        s //= 2\n",
    "    return d\n",
    "\n",
    "def rot(n, x, y, rx, ry):\n",
    "    if ry == 0:\n",
    "        if rx == 1:\n",
    "            x = n - 1 - x\n",
    "            y = n - 1 - y\n",
    "        x, y = y, x\n",
    "    return x, y\n",
    "\n",
    "def hilbert_sort(B, C, H, W):\n",
    "    N = int(np.ceil(np.log2(max(H, W))))\n",
    "    max_d = 1 << (2 * N)\n",
    "\n",
    "    hilbert_map = torch.zeros((H, W), dtype=torch.long)\n",
    "    for y in range(H):\n",
    "        for x in range(W):\n",
    "            hilbert_map[y, x] = hilbert_distance(x, y, N)\n",
    "\n",
    "    hilbert_map = hilbert_map.view(-1).sort()[1].view(H, W)\n",
    "\n",
    "    return hilbert_map\n",
    "\n",
    "def hilbert_scan(tensor):\n",
    "    B, C, H, W = tensor.shape\n",
    "    hilbert_map = hilbert_sort(B, C, H, W)\n",
    "\n",
    "    tensor = tensor.view(B, C, -1)\n",
    "    tensor = tensor[:, :, hilbert_map.view(-1)]\n",
    "    tensor = tensor.view(B, C, -1)\n",
    "\n",
    "    return tensor"
   ]
  },
  {
   "cell_type": "code",
   "execution_count": 19,
   "metadata": {},
   "outputs": [
    {
     "name": "stdout",
     "output_type": "stream",
     "text": [
      "tensor([[[[ 1.,  2.,  3.,  4.],\n",
      "          [ 9., 10., 11., 12.],\n",
      "          [16., 15., 14., 13.]],\n",
      "\n",
      "         [[ 1.,  2.,  3.,  4.],\n",
      "          [ 9., 10., 11., 12.],\n",
      "          [16., 15., 14., 13.]],\n",
      "\n",
      "         [[ 1.,  2.,  3.,  4.],\n",
      "          [ 9., 10., 11., 12.],\n",
      "          [16., 15., 14., 13.]]]])\n"
     ]
    }
   ],
   "source": [
    "# 创建一个4x4的RGB图像作为示例\n",
    "# image = torch.tensor([\n",
    "#     [[1, 2, 3, 4],\n",
    "#      [8, 7, 6, 5],\n",
    "#      [9, 10, 11, 12],\n",
    "#      [16, 15, 14, 13]],\n",
    "#      [[1, 2, 3, 4],\n",
    "#      [8, 7, 6, 5],\n",
    "#      [9, 10, 11, 12],\n",
    "#      [16, 15, 14, 13]],\n",
    "#      [[1, 2, 3, 4],\n",
    "#      [8, 7, 6, 5],\n",
    "#      [9, 10, 11, 12],\n",
    "#      [16, 15, 14, 13]]\n",
    "# ], dtype=torch.float32)\n",
    "image = torch.tensor([\n",
    "    [[1, 2, 3, 4],\n",
    "     [9, 10, 11, 12],\n",
    "     [16, 15, 14, 13]],\n",
    "     [[1, 2, 3, 4],\n",
    "     [9, 10, 11, 12],\n",
    "     [16, 15, 14, 13]],\n",
    "     [[1, 2, 3, 4],\n",
    "     [9, 10, 11, 12],\n",
    "     [16, 15, 14, 13]]\n",
    "], dtype=torch.float32)\n",
    "image = image.unsqueeze(0)  # 添加batch维度\n",
    "b,c,h,w = image.shape\n",
    "print(image)\n"
   ]
  },
  {
   "cell_type": "code",
   "execution_count": 20,
   "metadata": {},
   "outputs": [
    {
     "name": "stdout",
     "output_type": "stream",
     "text": [
      "tensor([[[ 1.,  2.,  3.,  4., 12., 11., 10.,  9., 16., 15., 14., 13.],\n",
      "         [ 1.,  2.,  3.,  4., 12., 11., 10.,  9., 16., 15., 14., 13.],\n",
      "         [ 1.,  2.,  3.,  4., 12., 11., 10.,  9., 16., 15., 14., 13.]]])\n"
     ]
    }
   ],
   "source": [
    "zigzag_image = snake_scan(image)\n",
    "print(zigzag_image)\n"
   ]
  },
  {
   "cell_type": "code",
   "execution_count": 21,
   "metadata": {},
   "outputs": [
    {
     "name": "stdout",
     "output_type": "stream",
     "text": [
      "tensor([[[ 1.,  2., 11., 12., 16., 15., 14., 13.,  9., 10.,  3.,  4.],\n",
      "         [ 1.,  2., 11., 12., 16., 15., 14., 13.,  9., 10.,  3.,  4.],\n",
      "         [ 1.,  2., 11., 12., 16., 15., 14., 13.,  9., 10.,  3.,  4.]]])\n"
     ]
    }
   ],
   "source": [
    "hilbert_image = hilbert_scan(image)\n",
    "print(hilbert_image)\n"
   ]
  },
  {
   "cell_type": "code",
   "execution_count": null,
   "metadata": {},
   "outputs": [],
   "source": []
  },
  {
   "cell_type": "code",
   "execution_count": 2,
   "metadata": {},
   "outputs": [
    {
     "ename": "",
     "evalue": "",
     "output_type": "error",
     "traceback": [
      "\u001b[1;31mThe Kernel crashed while executing code in the the current cell or a previous cell. Please review the code in the cell(s) to identify a possible cause of the failure. Click <a href='https://aka.ms/vscodeJupyterKernelCrash'>here</a> for more info. View Jupyter <a href='command:jupyter.viewOutput'>log</a> for further details."
     ]
    }
   ],
   "source": [
    "import os\n",
    "from PIL import Image\n",
    "\n",
    "# Specify the folder path\n",
    "folder_path = \"E:/Research/test_results/groundtruth\"\n",
    "save_folder_path = \"E:/Research/test_results/LR-x2\"\n",
    "\n",
    "# Get the list of image files in the folder\n",
    "image_files = [f for f in os.listdir(folder_path) if os.path.isfile(os.path.join(folder_path, f))]\n",
    "\n",
    "# Iterate through each image file\n",
    "for file_name in image_files:\n",
    "    # Open the image\n",
    "    image_path = os.path.join(folder_path, file_name)\n",
    "    image = Image.open(image_path)\n",
    "\n",
    "    # Downsample the image to 1/2\n",
    "    width, height = image.size\n",
    "    new_width = width // 2\n",
    "    new_height = height // 2\n",
    "    downscaled_image = image.resize((new_width, new_height))\n",
    "\n",
    "    # Save the downscaled image\n",
    "    save_path = os.path.join(save_folder_path, file_name)\n",
    "    downscaled_image.save(save_path)\n",
    "\n",
    "    # Close the image\n",
    "    image.close()\n"
   ]
  }
 ],
 "metadata": {
  "kernelspec": {
   "display_name": "torch",
   "language": "python",
   "name": "python3"
  },
  "language_info": {
   "codemirror_mode": {
    "name": "ipython",
    "version": 3
   },
   "file_extension": ".py",
   "mimetype": "text/x-python",
   "name": "python",
   "nbconvert_exporter": "python",
   "pygments_lexer": "ipython3",
   "version": "3.10.13"
  }
 },
 "nbformat": 4,
 "nbformat_minor": 2
}
