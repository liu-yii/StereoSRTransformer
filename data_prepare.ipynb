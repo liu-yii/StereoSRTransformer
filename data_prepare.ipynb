{
 "cells": [
  {
   "cell_type": "code",
   "execution_count": 1,
   "metadata": {},
   "outputs": [],
   "source": [
    "import numpy as np\n",
    "import os\n",
    "from PIL import Image\n",
    "from utils import readPFM"
   ]
  },
  {
   "cell_type": "code",
   "execution_count": 12,
   "metadata": {},
   "outputs": [
    {
     "name": "stdout",
     "output_type": "stream",
     "text": [
      "61.909435\n"
     ]
    }
   ],
   "source": [
    "out_path = r\"E:\\Research\\Datasets\\iPASSR\\train\\kitti\\0001\\disp_noc.png\"\n",
    "disp = np.array(Image.open(out_path)).astype(np.float32) / 265\n",
    "print(disp.max())\n"
   ]
  },
  {
   "cell_type": "code",
   "execution_count": 14,
   "metadata": {},
   "outputs": [
    {
     "name": "stdout",
     "output_type": "stream",
     "text": [
      "152.1189\n"
     ]
    }
   ],
   "source": [
    "out_path = r\"E:\\Research\\Datasets\\SceneFlow\\flythings\\disparity\\TRAIN\\A\\0000\\left\\0006.pfm\"\n",
    "disp, _ = readPFM(out_path)\n",
    "print(disp.max())\n",
    "    "
   ]
  }
 ],
 "metadata": {
  "kernelspec": {
   "display_name": "torch",
   "language": "python",
   "name": "python3"
  },
  "language_info": {
   "codemirror_mode": {
    "name": "ipython",
    "version": 3
   },
   "file_extension": ".py",
   "mimetype": "text/x-python",
   "name": "python",
   "nbconvert_exporter": "python",
   "pygments_lexer": "ipython3",
   "version": "3.10.13"
  }
 },
 "nbformat": 4,
 "nbformat_minor": 2
}
