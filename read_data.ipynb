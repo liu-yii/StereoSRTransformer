{
 "cells": [
  {
   "cell_type": "code",
   "execution_count": 1,
   "metadata": {},
   "outputs": [],
   "source": [
    "from pathlib import Path\n",
    "import numpy as np\n",
    "import csv\n",
    "import re\n",
    "import cv2"
   ]
  },
  {
   "cell_type": "code",
   "execution_count": 2,
   "metadata": {},
   "outputs": [
    {
     "name": "stdout",
     "output_type": "stream",
     "text": [
      "tensor([[ 0.0000, -0.6667],\n",
      "        [ 0.0000,  0.0000],\n",
      "        [ 0.0000,  0.6667]])\n"
     ]
    }
   ],
   "source": [
    "from utils import make_coord\n",
    "\n",
    "coord = make_coord([1,3])\n",
    "print(coord)"
   ]
  },
  {
   "cell_type": "code",
   "execution_count": 3,
   "metadata": {},
   "outputs": [],
   "source": [
    "# 读取相机参数\n",
    "def read_calib(calib_file_path):\n",
    "    with open(calib_file_path, 'r') as calib_file:\n",
    "        calib = {}\n",
    "        csv_reader = csv.reader(calib_file, delimiter='=')\n",
    "        for attr, value in csv_reader:\n",
    "            calib.setdefault(attr, value)\n",
    "    return calib\n",
    "\n",
    "def read_pfm(pfm_file_path):\n",
    "    with open(pfm_file_path, 'rb') as pfm_file:\n",
    "        header = pfm_file.readline().decode().rstrip()\n",
    "        channels = 3 if header == 'PF' else 1\n",
    "        dim_match = re.match(r'^(\\d+)\\s(\\d+)\\s$', pfm_file.readline().decode('utf-8'))\n",
    "        if dim_match:\n",
    "            width, height = map(int, dim_match.groups())\n",
    "        else:\n",
    "            raise Exception(\"Malformed PFM header.\")\n",
    "\n",
    "        scale = float(pfm_file.readline().decode().rstrip())\n",
    "        if scale < 0:\n",
    "            endian = '<'  # littel endian\n",
    "            scale = -scale\n",
    "        else:\n",
    "            endian = '>'  # big endian\n",
    "\n",
    "        dispariy = np.fromfile(pfm_file, endian + 'f')\n",
    "\n",
    "    img = np.reshape(dispariy, newshape=(height, width, channels))\n",
    "    img = np.flipud(img).astype('uint8')\n",
    "    # print(img.max(), img.min())\n",
    "    # cv2.imshow(\"disparity\", img)\n",
    "    return dispariy, [(height, width, channels), scale]\n",
    "\n",
    "def create_depth_map(pfm_file_path, calib=None):\n",
    "    dispariy, [shape, scale] = read_pfm(pfm_file_path)\n",
    "\n",
    "    if calib is None:\n",
    "        raise Exception(\"Loss calibration information.\")\n",
    "    else:\n",
    "        fx = float(calib['cam0'].split(' ')[0].lstrip('['))\n",
    "        base_line = float(calib['baseline'])\n",
    "        doffs = float(calib['doffs'])\n",
    "        # scale factor is used here\n",
    "        # d = bf/(d+ doffs)         doffs就是(x_or-x_ol) 两个相机主点在各自图像坐标系x方向上的坐标差\n",
    "        depth_map = fx * base_line / (dispariy / scale + doffs)\n",
    "        depth_map = np.reshape(depth_map, newshape=shape)\n",
    "        depth_map = np.flipud(depth_map).astype('uint8')\n",
    "        return depth_map\n",
    "\n",
    "def show(img, win_name='image'):\n",
    "    if img is None:\n",
    "        raise Exception(\"Can't display an empty image.\")\n",
    "    else:\n",
    "        # cv2.namedWindow(win_name, cv2.WINDOW_NORMAL)\n",
    "        cv2.imshow(win_name, img)\n",
    "        cv2.waitKey()\n",
    "        cv2.destroyWindow(win_name)\n",
    "\n"
   ]
  },
  {
   "cell_type": "code",
   "execution_count": 4,
   "metadata": {},
   "outputs": [
    {
     "name": "stdout",
     "output_type": "stream",
     "text": [
      "[[[       inf]\n",
      "  [101.098465]\n",
      "  [101.08243 ]\n",
      "  ...\n",
      "  [127.32339 ]\n",
      "  [127.346344]\n",
      "  [127.369644]]\n",
      "\n",
      " [[       inf]\n",
      "  [101.08514 ]\n",
      "  [101.073364]\n",
      "  ...\n",
      "  [127.29062 ]\n",
      "  [127.31209 ]\n",
      "  [127.33338 ]]\n",
      "\n",
      " [[       inf]\n",
      "  [101.07034 ]\n",
      "  [101.06523 ]\n",
      "  ...\n",
      "  [127.25664 ]\n",
      "  [127.27663 ]\n",
      "  [127.29655 ]]\n",
      "\n",
      " ...\n",
      "\n",
      " [[106.26039 ]\n",
      "  [106.311005]\n",
      "  [106.359886]\n",
      "  ...\n",
      "  [136.53586 ]\n",
      "  [136.48761 ]\n",
      "  [136.49104 ]]\n",
      "\n",
      " [[106.23775 ]\n",
      "  [106.29512 ]\n",
      "  [106.33731 ]\n",
      "  ...\n",
      "  [136.48529 ]\n",
      "  [136.52405 ]\n",
      "  [136.50172 ]]\n",
      "\n",
      " [[106.192535]\n",
      "  [106.2522  ]\n",
      "  [106.3069  ]\n",
      "  ...\n",
      "  [136.45667 ]\n",
      "  [136.51457 ]\n",
      "  [136.5049  ]]]\n"
     ]
    },
    {
     "name": "stderr",
     "output_type": "stream",
     "text": [
      "C:\\Users\\Administrator\\AppData\\Local\\Temp\\ipykernel_22396\\1299993179.py:30: RuntimeWarning: invalid value encountered in cast\n",
      "  img = np.flipud(img).astype('uint8')\n"
     ]
    },
    {
     "ename": "error",
     "evalue": "OpenCV(4.9.0) D:\\a\\opencv-python\\opencv-python\\opencv\\modules\\highgui\\src\\window.cpp:1272: error: (-2:Unspecified error) The function is not implemented. Rebuild the library with Windows, GTK+ 2.x or Cocoa support. If you are on Ubuntu or Debian, install libgtk2.0-dev and pkg-config, then re-run cmake or configure script in function 'cvShowImage'\n",
     "output_type": "error",
     "traceback": [
      "\u001b[1;31m---------------------------------------------------------------------------\u001b[0m",
      "\u001b[1;31merror\u001b[0m                                     Traceback (most recent call last)",
      "Cell \u001b[1;32mIn[4], line 12\u001b[0m\n\u001b[0;32m     10\u001b[0m \u001b[38;5;66;03m# create depth map\u001b[39;00m\n\u001b[0;32m     11\u001b[0m depth_map_left \u001b[38;5;241m=\u001b[39m create_depth_map(disp_left, calib)\n\u001b[1;32m---> 12\u001b[0m \u001b[43mshow\u001b[49m\u001b[43m(\u001b[49m\u001b[43mdepth_map_left\u001b[49m\u001b[43m,\u001b[49m\u001b[43m \u001b[49m\u001b[38;5;124;43m\"\u001b[39;49m\u001b[38;5;124;43mdepth_map\u001b[39;49m\u001b[38;5;124;43m\"\u001b[39;49m\u001b[43m)\u001b[49m\n",
      "Cell \u001b[1;32mIn[3], line 56\u001b[0m, in \u001b[0;36mshow\u001b[1;34m(img, win_name)\u001b[0m\n\u001b[0;32m     53\u001b[0m     \u001b[38;5;28;01mraise\u001b[39;00m \u001b[38;5;167;01mException\u001b[39;00m(\u001b[38;5;124m\"\u001b[39m\u001b[38;5;124mCan\u001b[39m\u001b[38;5;124m'\u001b[39m\u001b[38;5;124mt display an empty image.\u001b[39m\u001b[38;5;124m\"\u001b[39m)\n\u001b[0;32m     54\u001b[0m \u001b[38;5;28;01melse\u001b[39;00m:\n\u001b[0;32m     55\u001b[0m     \u001b[38;5;66;03m# cv2.namedWindow(win_name, cv2.WINDOW_NORMAL)\u001b[39;00m\n\u001b[1;32m---> 56\u001b[0m     \u001b[43mcv2\u001b[49m\u001b[38;5;241;43m.\u001b[39;49m\u001b[43mimshow\u001b[49m\u001b[43m(\u001b[49m\u001b[43mwin_name\u001b[49m\u001b[43m,\u001b[49m\u001b[43m \u001b[49m\u001b[43mimg\u001b[49m\u001b[43m)\u001b[49m\n\u001b[0;32m     57\u001b[0m     cv2\u001b[38;5;241m.\u001b[39mwaitKey()\n\u001b[0;32m     58\u001b[0m     cv2\u001b[38;5;241m.\u001b[39mdestroyWindow(win_name)\n",
      "\u001b[1;31merror\u001b[0m: OpenCV(4.9.0) D:\\a\\opencv-python\\opencv-python\\opencv\\modules\\highgui\\src\\window.cpp:1272: error: (-2:Unspecified error) The function is not implemented. Rebuild the library with Windows, GTK+ 2.x or Cocoa support. If you are on Ubuntu or Debian, install libgtk2.0-dev and pkg-config, then re-run cmake or configure script in function 'cvShowImage'\n"
     ]
    }
   ],
   "source": [
    "pfm_file_dir = Path('demo/Pipes-perfect')\n",
    "calib_file_path = pfm_file_dir.joinpath('calib.txt')\n",
    "disp_left = pfm_file_dir.joinpath('disp0.pfm')\n",
    "disparity, [shape, scale] = read_pfm(disp_left)\n",
    "disparity = np.reshape(disparity, newshape=shape)\n",
    "disparity = np.flipud(disparity)\n",
    "print(disparity)\n",
    "# calibration information\n",
    "calib = read_calib(calib_file_path)\n",
    "# create depth map\n",
    "depth_map_left = create_depth_map(disp_left, calib)\n",
    "show(depth_map_left, \"depth_map\")"
   ]
  },
  {
   "cell_type": "code",
   "execution_count": 5,
   "metadata": {},
   "outputs": [],
   "source": [
    "import cv2\n",
    "import numpy as np\n",
    "from utils import warp_grid\n",
    "from torchvision import transforms"
   ]
  },
  {
   "cell_type": "code",
   "execution_count": null,
   "metadata": {},
   "outputs": [
    {
     "name": "stderr",
     "output_type": "stream",
     "text": [
      "/home/yi/anaconda3/envs/torch/lib/python3.9/site-packages/torch/nn/functional.py:4296: UserWarning: Default grid_sample and affine_grid behavior has changed to align_corners=False since 1.3.0. Please specify align_corners=True if the old behavior is desired. See the documentation of grid_sample for details.\n",
      "  warnings.warn(\n"
     ]
    },
    {
     "data": {
      "text/plain": [
       "True"
      ]
     },
     "execution_count": 6,
     "metadata": {},
     "output_type": "execute_result"
    }
   ],
   "source": [
    "\n",
    "# 加载左图像和视差图\n",
    "left_img = cv2.imread('demo/Pipes-perfect/im0.png')\n",
    "\n",
    "# disparity_new = disparity.squeeze(-1)\n",
    "# # 创建x和y映射\n",
    "# height, width = disparity_new.shape\n",
    "# x_map = np.float32(np.tile(np.linspace(0, width-1, width), (height, 1)))\n",
    "# y_map = np.float32(np.tile(np.linspace(0, height-1, height), (width, 1)).T)\n",
    "\n",
    "# # 考虑到视差，更新x映\n",
    "# x_map = x_map - disparity_new\n",
    "\n",
    "# # 使用remap函数进行warp\n",
    "# warped_img = cv2.remap(left_img, x_map, y_map, interpolation=cv2.INTER_LINEAR, borderMode=cv2.BORDER_CONSTANT)\n",
    "\n",
    "disp_tensor = transforms.ToTensor()(disparity.copy()).unsqueeze(0)\n",
    "left_img_tensor = transforms.ToTensor()(left_img.copy()).unsqueeze(0)\n",
    "\n",
    "warped_img_tensor = warp(left_img_tensor, disp_tensor)\n",
    "warped_img = warped_img_tensor.squeeze(0).permute(1, 2, 0).numpy() * 255\n",
    "# 保存结果\n",
    "cv2.imwrite('vis/warped.png', warped_img)"
   ]
  },
  {
   "cell_type": "code",
   "execution_count": null,
   "metadata": {},
   "outputs": [
    {
     "data": {
      "text/plain": [
       "True"
      ]
     },
     "execution_count": 6,
     "metadata": {},
     "output_type": "execute_result"
    }
   ],
   "source": [
    "# 创建x和y映射\n",
    "height, width, _ = disparity.shape\n",
    "x_map = np.float32(np.tile(np.linspace(0, width-1, width), (height, 1)))\n",
    "y_map = np.float32(np.tile(np.linspace(0, height-1, height), (width, 1)).T)\n",
    "\n",
    "# 考虑到视差，更新x映射\n",
    "x_map = x_map - disparity[:,:,0]\n",
    "\n",
    "\n",
    "# 使用remap函数进行warp\n",
    "warped_img = cv2.remap(left_img, x_map, y_map, interpolation=cv2.INTER_LINEAR, borderMode=cv2.BORDER_CONSTANT)\n",
    "\n",
    "# 保存结果\n",
    "cv2.imwrite('vis/warped.png', warped_img)"
   ]
  },
  {
   "cell_type": "markdown",
   "metadata": {},
   "source": []
  }
 ],
 "metadata": {
  "kernelspec": {
   "display_name": "torch",
   "language": "python",
   "name": "python3"
  },
  "language_info": {
   "codemirror_mode": {
    "name": "ipython",
    "version": 3
   },
   "file_extension": ".py",
   "mimetype": "text/x-python",
   "name": "python",
   "nbconvert_exporter": "python",
   "pygments_lexer": "ipython3",
   "version": "3.10.13"
  }
 },
 "nbformat": 4,
 "nbformat_minor": 2
}
