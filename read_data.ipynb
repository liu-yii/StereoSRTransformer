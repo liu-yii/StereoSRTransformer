{
 "cells": [
  {
   "cell_type": "code",
   "execution_count": 2,
   "metadata": {},
   "outputs": [],
   "source": [
    "from pathlib import Path\n",
    "import numpy as np\n",
    "import csv\n",
    "import re\n",
    "import cv2"
   ]
  },
  {
   "cell_type": "code",
   "execution_count": 3,
   "metadata": {},
   "outputs": [],
   "source": [
    "# 读取相机参数\n",
    "def read_calib(calib_file_path):\n",
    "    with open(calib_file_path, 'r') as calib_file:\n",
    "        calib = {}\n",
    "        csv_reader = csv.reader(calib_file, delimiter='=')\n",
    "        for attr, value in csv_reader:\n",
    "            calib.setdefault(attr, value)\n",
    "    return calib\n",
    "\n",
    "def read_pfm(pfm_file_path):\n",
    "    with open(pfm_file_path, 'rb') as pfm_file:\n",
    "        header = pfm_file.readline().decode().rstrip()\n",
    "        channels = 3 if header == 'PF' else 1\n",
    "        dim_match = re.match(r'^(\\d+)\\s(\\d+)\\s$', pfm_file.readline().decode('utf-8'))\n",
    "        if dim_match:\n",
    "            width, height = map(int, dim_match.groups())\n",
    "        else:\n",
    "            raise Exception(\"Malformed PFM header.\")\n",
    "\n",
    "        scale = float(pfm_file.readline().decode().rstrip())\n",
    "        if scale < 0:\n",
    "            endian = '<'  # littel endian\n",
    "            scale = -scale\n",
    "        else:\n",
    "            endian = '>'  # big endian\n",
    "\n",
    "        dispariy = np.fromfile(pfm_file, endian + 'f')\n",
    "\n",
    "    img = np.reshape(dispariy, newshape=(height, width, channels))\n",
    "    img = np.flipud(img).astype('uint8')\n",
    "    print(img.max(), img.min())\n",
    "    show(img, \"disparity\")\n",
    "    return dispariy, [(height, width, channels), scale]\n",
    "\n",
    "def create_depth_map(pfm_file_path, calib=None):\n",
    "    dispariy, [shape, scale] = read_pfm(pfm_file_path)\n",
    "\n",
    "    if calib is None:\n",
    "        raise Exception(\"Loss calibration information.\")\n",
    "    else:\n",
    "        fx = float(calib['cam0'].split(' ')[0].lstrip('['))\n",
    "        base_line = float(calib['baseline'])\n",
    "        doffs = float(calib['doffs'])\n",
    "        # scale factor is used here\n",
    "        # d = bf/(d+ doffs)         doffs就是(x_or-x_ol) 两个相机主点在各自图像坐标系x方向上的坐标差\n",
    "        depth_map = fx * base_line / (dispariy / scale + doffs)\n",
    "        depth_map = np.reshape(depth_map, newshape=shape)\n",
    "        depth_map = np.flipud(depth_map).astype('uint8')\n",
    "        return depth_map\n",
    "\n",
    "def show(img, win_name='image'):\n",
    "    if img is None:\n",
    "        raise Exception(\"Can't display an empty image.\")\n",
    "    else:\n",
    "        cv2.namedWindow(win_name, cv2.WINDOW_NORMAL)\n",
    "        cv2.imshow(win_name, img)\n",
    "        cv2.waitKey()\n",
    "        cv2.destroyWindow(win_name)\n",
    "\n"
   ]
  },
  {
   "cell_type": "code",
   "execution_count": 4,
   "metadata": {},
   "outputs": [
    {
     "name": "stderr",
     "output_type": "stream",
     "text": [
      "C:\\Users\\Administrator\\AppData\\Local\\Temp\\ipykernel_43704\\2854456553.py:30: RuntimeWarning: invalid value encountered in cast\n",
      "  img = np.flipud(img).astype('uint8')\n"
     ]
    },
    {
     "name": "stdout",
     "output_type": "stream",
     "text": [
      "255 0\n",
      "[149.93364 149.91214 149.88821 ... 116.0108  115.87364 115.84978]\n",
      "255 0\n"
     ]
    }
   ],
   "source": [
    "pfm_file_dir = Path('demo/pipes-perfect')\n",
    "calib_file_path = pfm_file_dir.joinpath('calib.txt')\n",
    "disp_left = pfm_file_dir.joinpath('disp1.pfm')\n",
    "disparity, [shape, scale] = read_pfm(disp_left)\n",
    "print(disparity)\n",
    "disparity = np.reshape(disparity, newshape=shape)\n",
    "disparity = np.flipud(disparity)\n",
    "# calibration information\n",
    "calib = read_calib(calib_file_path)\n",
    "# create depth map\n",
    "depth_map_left = create_depth_map(disp_left, calib)\n",
    "show(depth_map_left, \"depth_map\")\n"
   ]
  },
  {
   "cell_type": "code",
   "execution_count": 1,
   "metadata": {},
   "outputs": [
    {
     "name": "stdout",
     "output_type": "stream",
     "text": [
      "(96, 384, 1)\n",
      "[[195. 193. 191. ... 188. 186. 186.]\n",
      " [194. 193. 191. ... 187. 186. 185.]\n",
      " [196. 195. 193. ... 190. 189. 188.]\n",
      " ...\n",
      " [151. 152. 155. ... 180. 179. 177.]\n",
      " [151. 151. 154. ... 178. 176. 175.]\n",
      " [151. 151. 154. ... 178. 177. 175.]]\n"
     ]
    },
    {
     "data": {
      "text/plain": [
       "True"
      ]
     },
     "execution_count": 1,
     "metadata": {},
     "output_type": "execute_result"
    }
   ],
   "source": [
    "import cv2\n",
    "import numpy as np\n",
    "\n",
    "# 加载左图像和视差图\n",
    "left_img = cv2.imread('vis/heat_map_right.jpg')\n",
    "disparity = cv2.imread('vis/out_disp.jpg', cv2.IMREAD_GRAYSCALE)\n",
    "disparity = np.expand_dims(disparity, -1)\n",
    "print(disparity.shape)\n",
    "disparity_new = np.float32(disparity.squeeze(-1))\n",
    "print(disparity_new)\n",
    "\n",
    "# 创建x和y映射\n",
    "height, width = disparity_new.shape\n",
    "x_map = np.float32(np.tile(np.linspace(0, width-1, width), (height, 1)))\n",
    "y_map = np.float32(np.tile(np.linspace(0, height-1, height), (width, 1)).T)\n",
    "\n",
    "# 考虑到视差，更新x映射\n",
    "x_map = x_map - disparity_new\n",
    "\n",
    "# 使用remap函数进行warp\n",
    "warped_img = cv2.remap(left_img, x_map, y_map, interpolation=cv2.INTER_LINEAR, borderMode=cv2.BORDER_CONSTANT)\n",
    "\n",
    "# 保存结果\n",
    "cv2.imwrite('vis/warped.png', warped_img)"
   ]
  },
  {
   "cell_type": "code",
   "execution_count": 2,
   "metadata": {},
   "outputs": [
    {
     "name": "stdout",
     "output_type": "stream",
     "text": [
      "torch.Size([1, 3, 96, 384])\n",
      "torch.FloatTensor\n",
      "torch.FloatTensor\n",
      "tensor([[[[195., 193., 191.,  ..., 188., 186., 186.],\n",
      "          [194., 193., 191.,  ..., 187., 186., 185.],\n",
      "          [196., 195., 193.,  ..., 190., 189., 188.],\n",
      "          ...,\n",
      "          [151., 152., 155.,  ..., 180., 179., 177.],\n",
      "          [151., 151., 154.,  ..., 178., 176., 175.],\n",
      "          [151., 151., 154.,  ..., 178., 177., 175.]]]])\n",
      "(96, 384, 3)\n"
     ]
    },
    {
     "name": "stderr",
     "output_type": "stream",
     "text": [
      "c:\\ProgramData\\anaconda3\\envs\\torch\\lib\\site-packages\\torch\\nn\\functional.py:4296: UserWarning: Default grid_sample and affine_grid behavior has changed to align_corners=False since 1.3.0. Please specify align_corners=True if the old behavior is desired. See the documentation of grid_sample for details.\n",
      "  warnings.warn(\n"
     ]
    },
    {
     "data": {
      "text/plain": [
       "True"
      ]
     },
     "execution_count": 2,
     "metadata": {},
     "output_type": "execute_result"
    }
   ],
   "source": [
    "from utils import warp\n",
    "import torch\n",
    "img_tensor = torch.from_numpy(np.expand_dims(left_img, 0).transpose(0, 3, 1, 2)).float()\n",
    "print(img_tensor.shape)\n",
    "print(img_tensor.type())\n",
    "disparity_tensor = torch.from_numpy(disparity.copy()).unsqueeze(0).permute(0, 3, 1, 2).float()\n",
    "print(disparity_tensor.type())\n",
    "print(disparity_tensor)\n",
    "warped_img_new = warp(img_tensor, disparity_tensor, mode='r2l')\n",
    "warped_img_new = warped_img_new.view(1,img_tensor.shape[2],img_tensor.shape[3],-1).permute(0,3,1,2).squeeze(0).numpy().astype(np.uint8).transpose(1,2,0)\n",
    "print(warped_img_new.shape)\n",
    "# 保存结果\n",
    "cv2.imwrite('vis/warped_new.png', warped_img_new)"
   ]
  },
  {
   "cell_type": "markdown",
   "metadata": {},
   "source": []
  }
 ],
 "metadata": {
  "kernelspec": {
   "display_name": "torch",
   "language": "python",
   "name": "python3"
  },
  "language_info": {
   "codemirror_mode": {
    "name": "ipython",
    "version": 3
   },
   "file_extension": ".py",
   "mimetype": "text/x-python",
   "name": "python",
   "nbconvert_exporter": "python",
   "pygments_lexer": "ipython3",
   "version": "3.10.13"
  }
 },
 "nbformat": 4,
 "nbformat_minor": 2
}
