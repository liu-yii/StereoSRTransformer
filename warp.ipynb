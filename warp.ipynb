{
 "cells": [
  {
   "cell_type": "code",
   "execution_count": 1,
   "metadata": {},
   "outputs": [],
   "source": [
    "import cv2\n",
    "import numpy as np\n",
    "import torch\n",
    "import torchvision.transforms as transforms\n",
    "from PIL import Image"
   ]
  },
  {
   "cell_type": "code",
   "execution_count": 2,
   "metadata": {},
   "outputs": [],
   "source": [
    "def warp_left_to_right(left_image_path, disparity_map_path, output_path):\n",
    "    # 读取左影像和视差图\n",
    "    left_image = cv2.imread(left_image_path)\n",
    "    disparity_map = cv2.imread(disparity_map_path, cv2.IMREAD_GRAYSCALE)\n",
    "    \n",
    "    # 获取图像尺寸\n",
    "    height, width = left_image.shape[:2]\n",
    "\n",
    "    # 创建一个空的右影像\n",
    "    right_image = np.zeros_like(left_image)\n",
    "    \n",
    "    # 将视差图的像素值从 uint8 转换为 float32\n",
    "    disparity_map = disparity_map.astype(np.float32)\n",
    "    \n",
    "    # 遍历图像中的每一个像素\n",
    "    for y in range(height):\n",
    "        for x in range(width):\n",
    "            disparity = disparity_map[y, x]\n",
    "            if x - disparity >= 0:\n",
    "                right_x = int(x - disparity)\n",
    "                right_image[y, right_x] = left_image[y, x]\n",
    "    \n",
    "    # 保存右影像\n",
    "    cv2.imwrite(output_path, right_image)"
   ]
  },
  {
   "cell_type": "code",
   "execution_count": 3,
   "metadata": {},
   "outputs": [],
   "source": [
    "def warp_left_to_right_tensor(left_image_path, disparity_map_path, output_path):\n",
    "    # 读取左影像和视差图\n",
    "    left_image = Image.open(left_image_path)\n",
    "    disparity_map = cv2.imread(disparity_map_path, cv2.IMREAD_GRAYSCALE).astype(np.float32)\n",
    "\n",
    "    # 将图像和视差图转换为tensor\n",
    "    transform = transforms.ToTensor()\n",
    "    left_image = transform(left_image)\n",
    "    disparity_map = torch.from_numpy(disparity_map).unsqueeze(0)\n",
    "\n",
    "    # 获取图像尺寸\n",
    "    _, height, width = left_image.size()\n",
    "\n",
    "    # 创建一个网格\n",
    "    x = torch.linspace(-1, 1, width).view(1, -1).repeat(height, 1)\n",
    "    y = torch.linspace(-1, 1, height).view(-1, 1).repeat(1, width)\n",
    "    grid = torch.cat((x.unsqueeze(2), y.unsqueeze(2)), 2)\n",
    "    grid = grid.unsqueeze(0)\n",
    "\n",
    "    # 更新网格的x坐标\n",
    "    grid[:, :, :, 0] = grid[:, :, :, 0] + 2 * disparity_map/width\n",
    "\n",
    "    # 使用grid_sample函数进行重映射\n",
    "    right_image = torch.nn.functional.grid_sample(left_image.unsqueeze(0), grid)\n",
    "\n",
    "    # 保存右影像\n",
    "    transforms.ToPILImage()(right_image.squeeze(0)).save(output_path)"
   ]
  },
  {
   "cell_type": "code",
   "execution_count": 4,
   "metadata": {},
   "outputs": [
    {
     "name": "stderr",
     "output_type": "stream",
     "text": [
      "c:\\ProgramData\\anaconda3\\envs\\torch\\lib\\site-packages\\torch\\nn\\functional.py:4296: UserWarning: Default grid_sample and affine_grid behavior has changed to align_corners=False since 1.3.0. Please specify align_corners=True if the old behavior is desired. See the documentation of grid_sample for details.\n",
      "  warnings.warn(\n"
     ]
    }
   ],
   "source": [
    "left_image_path = 'vis/out_l.jpg'\n",
    "disparity_map_path = 'vis/out_disp.jpg'\n",
    "output_path = 'vis/warp_right.jpg'\n",
    "warp_left_to_right_tensor(left_image_path, disparity_map_path, output_path)"
   ]
  }
 ],
 "metadata": {
  "kernelspec": {
   "display_name": "torch",
   "language": "python",
   "name": "python3"
  },
  "language_info": {
   "codemirror_mode": {
    "name": "ipython",
    "version": 3
   },
   "file_extension": ".py",
   "mimetype": "text/x-python",
   "name": "python",
   "nbconvert_exporter": "python",
   "pygments_lexer": "ipython3",
   "version": "3.10.13"
  }
 },
 "nbformat": 4,
 "nbformat_minor": 2
}
